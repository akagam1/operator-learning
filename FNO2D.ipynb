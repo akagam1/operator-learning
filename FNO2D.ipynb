{
  "nbformat": 4,
  "nbformat_minor": 0,
  "metadata": {
    "colab": {
      "provenance": [],
      "gpuType": "T4"
    },
    "kernelspec": {
      "name": "python3",
      "display_name": "Python 3"
    },
    "language_info": {
      "name": "python"
    },
    "accelerator": "GPU"
  },
  "cells": [
    {
      "cell_type": "code",
      "source": [
        "!pip install torch\n",
        "!pip install pytorch_lightning"
      ],
      "metadata": {
        "colab": {
          "base_uri": "https://localhost:8080/"
        },
        "id": "zDs0NVAaakTF",
        "outputId": "b4137c19-c479-4513-8fc2-b1f6ce70f5dd"
      },
      "execution_count": null,
      "outputs": [
        {
          "output_type": "stream",
          "name": "stdout",
          "text": [
            "Requirement already satisfied: torch in /usr/local/lib/python3.10/dist-packages (2.4.0+cu121)\n",
            "Requirement already satisfied: filelock in /usr/local/lib/python3.10/dist-packages (from torch) (3.16.0)\n",
            "Requirement already satisfied: typing-extensions>=4.8.0 in /usr/local/lib/python3.10/dist-packages (from torch) (4.12.2)\n",
            "Requirement already satisfied: sympy in /usr/local/lib/python3.10/dist-packages (from torch) (1.13.2)\n",
            "Requirement already satisfied: networkx in /usr/local/lib/python3.10/dist-packages (from torch) (3.3)\n",
            "Requirement already satisfied: jinja2 in /usr/local/lib/python3.10/dist-packages (from torch) (3.1.4)\n",
            "Requirement already satisfied: fsspec in /usr/local/lib/python3.10/dist-packages (from torch) (2024.6.1)\n",
            "Requirement already satisfied: MarkupSafe>=2.0 in /usr/local/lib/python3.10/dist-packages (from jinja2->torch) (2.1.5)\n",
            "Requirement already satisfied: mpmath<1.4,>=1.1.0 in /usr/local/lib/python3.10/dist-packages (from sympy->torch) (1.3.0)\n",
            "Collecting pytorch_lightning\n",
            "  Downloading pytorch_lightning-2.4.0-py3-none-any.whl.metadata (21 kB)\n",
            "Requirement already satisfied: torch>=2.1.0 in /usr/local/lib/python3.10/dist-packages (from pytorch_lightning) (2.4.0+cu121)\n",
            "Requirement already satisfied: tqdm>=4.57.0 in /usr/local/lib/python3.10/dist-packages (from pytorch_lightning) (4.66.5)\n",
            "Requirement already satisfied: PyYAML>=5.4 in /usr/local/lib/python3.10/dist-packages (from pytorch_lightning) (6.0.2)\n",
            "Requirement already satisfied: fsspec>=2022.5.0 in /usr/local/lib/python3.10/dist-packages (from fsspec[http]>=2022.5.0->pytorch_lightning) (2024.6.1)\n",
            "Collecting torchmetrics>=0.7.0 (from pytorch_lightning)\n",
            "  Downloading torchmetrics-1.4.2-py3-none-any.whl.metadata (19 kB)\n",
            "Requirement already satisfied: packaging>=20.0 in /usr/local/lib/python3.10/dist-packages (from pytorch_lightning) (24.1)\n",
            "Requirement already satisfied: typing-extensions>=4.4.0 in /usr/local/lib/python3.10/dist-packages (from pytorch_lightning) (4.12.2)\n",
            "Collecting lightning-utilities>=0.10.0 (from pytorch_lightning)\n",
            "  Downloading lightning_utilities-0.11.7-py3-none-any.whl.metadata (5.2 kB)\n",
            "Requirement already satisfied: aiohttp!=4.0.0a0,!=4.0.0a1 in /usr/local/lib/python3.10/dist-packages (from fsspec[http]>=2022.5.0->pytorch_lightning) (3.10.5)\n",
            "Requirement already satisfied: setuptools in /usr/local/lib/python3.10/dist-packages (from lightning-utilities>=0.10.0->pytorch_lightning) (71.0.4)\n",
            "Requirement already satisfied: filelock in /usr/local/lib/python3.10/dist-packages (from torch>=2.1.0->pytorch_lightning) (3.16.0)\n",
            "Requirement already satisfied: sympy in /usr/local/lib/python3.10/dist-packages (from torch>=2.1.0->pytorch_lightning) (1.13.2)\n",
            "Requirement already satisfied: networkx in /usr/local/lib/python3.10/dist-packages (from torch>=2.1.0->pytorch_lightning) (3.3)\n",
            "Requirement already satisfied: jinja2 in /usr/local/lib/python3.10/dist-packages (from torch>=2.1.0->pytorch_lightning) (3.1.4)\n",
            "Requirement already satisfied: numpy>1.20.0 in /usr/local/lib/python3.10/dist-packages (from torchmetrics>=0.7.0->pytorch_lightning) (1.26.4)\n",
            "Requirement already satisfied: aiohappyeyeballs>=2.3.0 in /usr/local/lib/python3.10/dist-packages (from aiohttp!=4.0.0a0,!=4.0.0a1->fsspec[http]>=2022.5.0->pytorch_lightning) (2.4.0)\n",
            "Requirement already satisfied: aiosignal>=1.1.2 in /usr/local/lib/python3.10/dist-packages (from aiohttp!=4.0.0a0,!=4.0.0a1->fsspec[http]>=2022.5.0->pytorch_lightning) (1.3.1)\n",
            "Requirement already satisfied: attrs>=17.3.0 in /usr/local/lib/python3.10/dist-packages (from aiohttp!=4.0.0a0,!=4.0.0a1->fsspec[http]>=2022.5.0->pytorch_lightning) (24.2.0)\n",
            "Requirement already satisfied: frozenlist>=1.1.1 in /usr/local/lib/python3.10/dist-packages (from aiohttp!=4.0.0a0,!=4.0.0a1->fsspec[http]>=2022.5.0->pytorch_lightning) (1.4.1)\n",
            "Requirement already satisfied: multidict<7.0,>=4.5 in /usr/local/lib/python3.10/dist-packages (from aiohttp!=4.0.0a0,!=4.0.0a1->fsspec[http]>=2022.5.0->pytorch_lightning) (6.1.0)\n",
            "Requirement already satisfied: yarl<2.0,>=1.0 in /usr/local/lib/python3.10/dist-packages (from aiohttp!=4.0.0a0,!=4.0.0a1->fsspec[http]>=2022.5.0->pytorch_lightning) (1.11.1)\n",
            "Requirement already satisfied: async-timeout<5.0,>=4.0 in /usr/local/lib/python3.10/dist-packages (from aiohttp!=4.0.0a0,!=4.0.0a1->fsspec[http]>=2022.5.0->pytorch_lightning) (4.0.3)\n",
            "Requirement already satisfied: MarkupSafe>=2.0 in /usr/local/lib/python3.10/dist-packages (from jinja2->torch>=2.1.0->pytorch_lightning) (2.1.5)\n",
            "Requirement already satisfied: mpmath<1.4,>=1.1.0 in /usr/local/lib/python3.10/dist-packages (from sympy->torch>=2.1.0->pytorch_lightning) (1.3.0)\n",
            "Requirement already satisfied: idna>=2.0 in /usr/local/lib/python3.10/dist-packages (from yarl<2.0,>=1.0->aiohttp!=4.0.0a0,!=4.0.0a1->fsspec[http]>=2022.5.0->pytorch_lightning) (3.8)\n",
            "Downloading pytorch_lightning-2.4.0-py3-none-any.whl (815 kB)\n",
            "\u001b[2K   \u001b[90m━━━━━━━━━━━━━━━━━━━━━━━━━━━━━━━━━━━━━━━━\u001b[0m \u001b[32m815.2/815.2 kB\u001b[0m \u001b[31m22.7 MB/s\u001b[0m eta \u001b[36m0:00:00\u001b[0m\n",
            "\u001b[?25hDownloading lightning_utilities-0.11.7-py3-none-any.whl (26 kB)\n",
            "Downloading torchmetrics-1.4.2-py3-none-any.whl (869 kB)\n",
            "\u001b[2K   \u001b[90m━━━━━━━━━━━━━━━━━━━━━━━━━━━━━━━━━━━━━━━━\u001b[0m \u001b[32m869.2/869.2 kB\u001b[0m \u001b[31m51.2 MB/s\u001b[0m eta \u001b[36m0:00:00\u001b[0m\n",
            "\u001b[?25hInstalling collected packages: lightning-utilities, torchmetrics, pytorch_lightning\n",
            "Successfully installed lightning-utilities-0.11.7 pytorch_lightning-2.4.0 torchmetrics-1.4.2\n"
          ]
        }
      ]
    },
    {
      "cell_type": "code",
      "execution_count": null,
      "metadata": {
        "id": "ix-YwL6VaSDL"
      },
      "outputs": [],
      "source": [
        "import os\n",
        "import pytorch_lightning as pl\n",
        "import matplotlib.pyplot as plt\n",
        "import numpy as np\n",
        "from scipy.io import loadmat\n",
        "import torch\n",
        "import torch.nn as nn\n",
        "import torch.nn.functional as F\n",
        "from torch.utils.data import DataLoader, TensorDataset\n",
        "from pytorch_lightning.callbacks import ModelCheckpoint\n",
        "from pytorch_lightning import seed_everything"
      ]
    },
    {
      "cell_type": "code",
      "source": [
        "class ConvModule(nn.Module):\n",
        "    def __init__(self, in_dim, out_dim, modes):\n",
        "        super(ConvModule, self).__init__()\n",
        "        self.ind = in_dim\n",
        "        self.outd = out_dim\n",
        "        self.modes = modes\n",
        "\n",
        "        self.weights = nn.Parameter(torch.rand(self.ind, self.outd, self.modes, dtype=torch.cfloat))\n",
        "\n",
        "    def product(self, input, weights):\n",
        "        #returns multiplication of input (batch, ind, d) and weights (ind, outd, d)\n",
        "        #final dimensions are (batch, outd, d)\n",
        "\n",
        "        return torch.einsum(\"bid,iod->bod\", input, weights)\n",
        "\n",
        "    def forward(self, x):\n",
        "        #fourier transform and inverse feed-forward\n",
        "        x_ft = torch.fft.rfft(x)\n",
        "\n",
        "        out_ft = torch.zeros(x.shape[0], self.outd, x.shape[-1]//2+1, device = x.device, dtype = torch.cfloat)\n",
        "\n",
        "        out_ft[:, :, :self.modes] = self.product(x_ft[:,:,:self.modes], self.weights)\n",
        "\n",
        "        out_x = torch.fft.irfft(out_ft)\n",
        "        return out_x"
      ],
      "metadata": {
        "id": "UMQyKPAZfOWB"
      },
      "execution_count": null,
      "outputs": []
    },
    {
      "cell_type": "code",
      "source": [
        "class FNOModule1D(nn.Module):\n",
        "    def __init__(self, modes, lifted_dim):\n",
        "        super(FNOModule1D, self).__init__()\n",
        "        self.modes = modes\n",
        "        self.lifted_dim = lifted_dim\n",
        "\n",
        "        self.liftLayer = nn.Linear(3, lifted_dim)\n",
        "\n",
        "        self.fLayer1 = ConvModule(self.lifted_dim, self.lifted_dim, self.modes)\n",
        "        self.fLayer2 = ConvModule(self.lifted_dim, self.lifted_dim, self.modes)\n",
        "        self.fLayer3 = ConvModule(self.lifted_dim, self.lifted_dim, self.modes)\n",
        "        self.fLayer4 = ConvModule(self.lifted_dim, self.lifted_dim, self.modes)\n",
        "\n",
        "        self.w1 = nn.Conv1d(self.lifted_dim, self.lifted_dim, 1)\n",
        "        self.w2 = nn.Conv1d(self.lifted_dim, self.lifted_dim, 1)\n",
        "        self.w3 = nn.Conv1d(self.lifted_dim, self.lifted_dim, 1)\n",
        "        self.w4 = nn.Conv1d(self.lifted_dim, self.lifted_dim, 1)\n",
        "\n",
        "        self.fc = nn.Linear(self.lifted_dim, 128)\n",
        "        self.fcOut = nn.Linear(128, 1)\n",
        "\n",
        "    def forward(self, x):\n",
        "        x = self.liftLayer(x) #dimension converted (batch, d, 3) ---> (batch, d, lifted)\n",
        "        x = x.permute(0,2,1)\n",
        "\n",
        "        x1 = self.fLayer1(x)\n",
        "        b1 = self.w1(x)\n",
        "        x = x1 + b1\n",
        "        x = F.relu(x)\n",
        "\n",
        "        x1 = self.fLayer2(x)\n",
        "        b1 = self.w2(x)\n",
        "        x = x1 + b1\n",
        "        x = F.relu(x)\n",
        "\n",
        "        x1 = self.fLayer3(x)\n",
        "        b1 = self.w3(x)\n",
        "        x = x1 + b1\n",
        "        x = F.relu(x)\n",
        "\n",
        "        x1 = self.fLayer4(x)\n",
        "        b1 = self.w4(x)\n",
        "        x = x1 + b1\n",
        "        #x = F.relu(x)\n",
        "        x = x.permute(0, 2, 1)\n",
        "        x = self.fc(x)\n",
        "        x = F.relu(x)\n",
        "        x = self.fcOut(x)\n",
        "\n",
        "        return x"
      ],
      "metadata": {
        "id": "8p55x6tDad8n"
      },
      "execution_count": null,
      "outputs": []
    },
    {
      "cell_type": "markdown",
      "source": [
        "#Training and Testing\n",
        "\n",
        "Currently looking for a 2D Darcy Flow dataset"
      ],
      "metadata": {
        "id": "xauvuOOvrI9j"
      }
    }
  ]
}